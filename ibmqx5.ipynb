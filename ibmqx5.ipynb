{
    "metadata": {
        "kernelspec": {
            "language": "python", 
            "display_name": "Python 3.5 (Experimental) with Spark 1.6 (Unsupported)", 
            "name": "python3"
        }, 
        "language_info": {
            "version": "3.5.2", 
            "nbconvert_exporter": "python", 
            "codemirror_mode": {
                "version": 3, 
                "name": "ipython"
            }, 
            "mimetype": "text/x-python", 
            "name": "python", 
            "pygments_lexer": "ipython3", 
            "file_extension": ".py"
        }, 
        "anaconda-cloud": {}
    }, 
    "nbformat": 4, 
    "cells": [
        {
            "metadata": {}, 
            "cell_type": "markdown", 
            "source": "<img src=\"../images/QISKit-c.gif\" alt=\"Note: In order for images to show up in this jupyter notebook you need to select File => Trusted Notebook\" width=\"250 px\" align=\"left\">"
        }, 
        {
            "metadata": {}, 
            "cell_type": "markdown", 
            "source": "The latest version of this notebook is available [here.](https://github.com/QISKit/qiskit-tutorial) For more information about how to use the IBM Q experience (QX), see \n[this](https://quantumexperience.ng.bluemix.net) link.\n\n\n## Running Quantum Examples Using IBM Data Science Experience\n\nThis example is copied from the original [getting_started.ipynb](https://github.com/QISKit/qiskit-tutorial/blob/master/1_introduction/getting_started.ipynb). It is tweaked (changes in the first code cell), so that it can be directly run using [IBM Data Science Experience](https://datascience.ibm.com) (IBM DSX). If you want to run other Quantum notebooks using IBM DSX, simply copy the first *code cell* and paste it at the beginning of your *other* notebook.\n\n***\n\n### About IBM Data Science Experience\n\nIBM Data Science Experience (IBM DSX) is an interactive, collaborative, cloud-based environment where data scientists can use multiple tools to activate their insights.  \n\nIf you just starting with QISkit and looking for a webhosted Jupyter notebook environment, IBM DSX is an excellent option. It is fairly easy to get your quantum notebook running in the Jupyter notebook environment provided by IBM DSX. Moreover, it provides a platform where you can create your Quantum notebooks, invite fellow researchers to collaborate or simply share your work within the community.\n\n\n\n### What you need to do\n\nThis example illustrates how to tweak your notebook so that it is ready to be run using IBM DSX. \n\n* In the first code cell, make sure to update the value of **`QX_API_token`** See the heading below that instructs how to get this information. \n* To run any other Quantum experience notebooks in IBM  DSX, just copy the first *code cell* of this notebook and paste it as the first *code cell* of your '*other*' notebook then just run it. \n\n\n### Getting your API token\n\nThe API access token allows you to connect to the IBM Quantum Experience API.  Here is how you can obtain this personal API access token.\n\n1. If you do not have an account for [IBM Q experience](https://quantumexperience.ng.bluemix.net) yet, sign up for one by following the instructions . \n2. Login to [IBM Q experience](https://quantumexperience.ng.bluemix.net).\n3. Click on your username that is displayed near the top right corner, and select *My Account*\n4. The *My Account* page has a section called *Personal Access Token* . Just copy the token displayed there. \n5. Update the value of **`QX_API_TOKEN`** in the first code cell with this API token you just copied in previous step.\n  \n\n### Credits and Contributions\n1. Ismael Faro, Jay Gambetta, Andrew Cross. See: [getting_started.ipynb](https://github.com/QISKit/qiskit-tutorial/blob/master/1_introduction/getting_started.ipynb).\n2. See this [public gist](https://gist.github.com/dtmcclure/a1299fc99d12f5dc37ad6400fb8bbf2a) which has been used as a reference while preparing this notebook. (Github user [dtmcclure](https://github.com/dtmcclure) ) \n3. Ninad Sathaye (code changes for running the notebook on IBM Data Science Experience)\n\n## The 'first code cell' follows (customization for IBM DSX):"
        }, 
        {
            "execution_count": 1, 
            "metadata": {}, 
            "cell_type": "code", 
            "outputs": [
                {
                    "output_type": "stream", 
                    "name": "stdout", 
                    "text": "Collecting qiskit\n  Downloading qiskit-0.3.10-py3-none-any.whl (180kB)\n\u001b[K    100% |\u2588\u2588\u2588\u2588\u2588\u2588\u2588\u2588\u2588\u2588\u2588\u2588\u2588\u2588\u2588\u2588\u2588\u2588\u2588\u2588\u2588\u2588\u2588\u2588\u2588\u2588\u2588\u2588\u2588\u2588\u2588\u2588| 184kB 3.4MB/s eta 0:00:01\n\u001b[?25hCollecting numpy<1.14,>=1.13 (from qiskit)\n  Downloading numpy-1.13.3-cp35-cp35m-manylinux1_x86_64.whl (16.9MB)\n\u001b[K    100% |\u2588\u2588\u2588\u2588\u2588\u2588\u2588\u2588\u2588\u2588\u2588\u2588\u2588\u2588\u2588\u2588\u2588\u2588\u2588\u2588\u2588\u2588\u2588\u2588\u2588\u2588\u2588\u2588\u2588\u2588\u2588\u2588| 16.9MB 75kB/s  eta 0:00:01   53% |\u2588\u2588\u2588\u2588\u2588\u2588\u2588\u2588\u2588\u2588\u2588\u2588\u2588\u2588\u2588\u2588\u2588               | 9.0MB 61.7MB/s eta 0:00:01\n\u001b[?25hCollecting matplotlib<2.1,>=2.0 (from qiskit)\n  Downloading matplotlib-2.0.2-cp35-cp35m-manylinux1_x86_64.whl (14.6MB)\n\u001b[K    100% |\u2588\u2588\u2588\u2588\u2588\u2588\u2588\u2588\u2588\u2588\u2588\u2588\u2588\u2588\u2588\u2588\u2588\u2588\u2588\u2588\u2588\u2588\u2588\u2588\u2588\u2588\u2588\u2588\u2588\u2588\u2588\u2588| 14.6MB 89kB/s  eta 0:00:01   55% |\u2588\u2588\u2588\u2588\u2588\u2588\u2588\u2588\u2588\u2588\u2588\u2588\u2588\u2588\u2588\u2588\u2588\u258a              | 8.1MB 68.2MB/s eta 0:00:01\n\u001b[?25hCollecting ply==3.10 (from qiskit)\n  Downloading ply-3.10.tar.gz (150kB)\n\u001b[K    100% |\u2588\u2588\u2588\u2588\u2588\u2588\u2588\u2588\u2588\u2588\u2588\u2588\u2588\u2588\u2588\u2588\u2588\u2588\u2588\u2588\u2588\u2588\u2588\u2588\u2588\u2588\u2588\u2588\u2588\u2588\u2588\u2588| 153kB 3.1MB/s eta 0:00:01\n\u001b[?25hCollecting requests<2.19,>=2.18 (from qiskit)\n  Downloading requests-2.18.4-py2.py3-none-any.whl (88kB)\n\u001b[K    100% |\u2588\u2588\u2588\u2588\u2588\u2588\u2588\u2588\u2588\u2588\u2588\u2588\u2588\u2588\u2588\u2588\u2588\u2588\u2588\u2588\u2588\u2588\u2588\u2588\u2588\u2588\u2588\u2588\u2588\u2588\u2588\u2588| 92kB 7.8MB/s eta 0:00:01\n\u001b[?25hCollecting sphinx<1.7,>=1.6 (from qiskit)\n  Downloading Sphinx-1.6.5-py2.py3-none-any.whl (1.9MB)\n\u001b[K    100% |\u2588\u2588\u2588\u2588\u2588\u2588\u2588\u2588\u2588\u2588\u2588\u2588\u2588\u2588\u2588\u2588\u2588\u2588\u2588\u2588\u2588\u2588\u2588\u2588\u2588\u2588\u2588\u2588\u2588\u2588\u2588\u2588| 1.9MB 670kB/s eta 0:00:01   10% |\u2588\u2588\u2588\u258e                            | 194kB 54.7MB/s eta 0:00:01\n\u001b[?25hCollecting scipy<0.20,>=0.19 (from qiskit)\n  Downloading scipy-0.19.1-cp35-cp35m-manylinux1_x86_64.whl (47.9MB)\n\u001b[K    100% |\u2588\u2588\u2588\u2588\u2588\u2588\u2588\u2588\u2588\u2588\u2588\u2588\u2588\u2588\u2588\u2588\u2588\u2588\u2588\u2588\u2588\u2588\u2588\u2588\u2588\u2588\u2588\u2588\u2588\u2588\u2588\u2588| 47.9MB 25kB/s  eta 0:00:01    51% |\u2588\u2588\u2588\u2588\u2588\u2588\u2588\u2588\u2588\u2588\u2588\u2588\u2588\u2588\u2588\u2588\u258d               | 24.5MB 57.3MB/s eta 0:00:01\n\u001b[?25hCollecting IBMQuantumExperience>=1.8 (from qiskit)\n  Downloading IBMQuantumExperience-1.8.16.tar.gz\nRequirement already satisfied (use --upgrade to upgrade): networkx<1.12,>=1.11 in /usr/local/src/conda3_runtime.v21/4.1.1/lib/python3.5/site-packages (from qiskit)\nRequirement already satisfied (use --upgrade to upgrade): cycler>=0.10 in /usr/local/src/conda3_runtime.v21/4.1.1/lib/python3.5/site-packages (from matplotlib<2.1,>=2.0->qiskit)\nRequirement already satisfied (use --upgrade to upgrade): pytz in /usr/local/src/conda3_runtime.v21/4.1.1/lib/python3.5/site-packages (from matplotlib<2.1,>=2.0->qiskit)\nRequirement already satisfied (use --upgrade to upgrade): six>=1.10 in /usr/local/src/conda3_runtime.v21/4.1.1/lib/python3.5/site-packages (from matplotlib<2.1,>=2.0->qiskit)\nRequirement already satisfied (use --upgrade to upgrade): pyparsing!=2.0.0,!=2.0.4,!=2.1.2,!=2.1.6,>=1.5.6 in /usr/local/src/conda3_runtime.v21/4.1.1/lib/python3.5/site-packages (from matplotlib<2.1,>=2.0->qiskit)\nRequirement already satisfied (use --upgrade to upgrade): python-dateutil in /usr/local/src/conda3_runtime.v21/4.1.1/lib/python3.5/site-packages (from matplotlib<2.1,>=2.0->qiskit)\nCollecting urllib3<1.23,>=1.21.1 (from requests<2.19,>=2.18->qiskit)\n  Downloading urllib3-1.22-py2.py3-none-any.whl (132kB)\n\u001b[K    100% |\u2588\u2588\u2588\u2588\u2588\u2588\u2588\u2588\u2588\u2588\u2588\u2588\u2588\u2588\u2588\u2588\u2588\u2588\u2588\u2588\u2588\u2588\u2588\u2588\u2588\u2588\u2588\u2588\u2588\u2588\u2588\u2588| 133kB 2.3MB/s eta 0:00:01\n\u001b[?25hCollecting chardet<3.1.0,>=3.0.2 (from requests<2.19,>=2.18->qiskit)\n  Downloading chardet-3.0.4-py2.py3-none-any.whl (133kB)\n\u001b[K    100% |\u2588\u2588\u2588\u2588\u2588\u2588\u2588\u2588\u2588\u2588\u2588\u2588\u2588\u2588\u2588\u2588\u2588\u2588\u2588\u2588\u2588\u2588\u2588\u2588\u2588\u2588\u2588\u2588\u2588\u2588\u2588\u2588| 143kB 7.9MB/s eta 0:00:01\n\u001b[?25hRequirement already satisfied (use --upgrade to upgrade): certifi>=2017.4.17 in /usr/local/src/conda3_runtime.v21/4.1.1/lib/python3.5/site-packages (from requests<2.19,>=2.18->qiskit)\nCollecting idna<2.7,>=2.5 (from requests<2.19,>=2.18->qiskit)\n  Downloading idna-2.6-py2.py3-none-any.whl (56kB)\n\u001b[K    100% |\u2588\u2588\u2588\u2588\u2588\u2588\u2588\u2588\u2588\u2588\u2588\u2588\u2588\u2588\u2588\u2588\u2588\u2588\u2588\u2588\u2588\u2588\u2588\u2588\u2588\u2588\u2588\u2588\u2588\u2588\u2588\u2588| 61kB 4.4MB/s eta 0:00:01\n\u001b[?25hCollecting sphinxcontrib-websupport (from sphinx<1.7,>=1.6->qiskit)\n  Downloading sphinxcontrib_websupport-1.0.1-py2.py3-none-any.whl\nRequirement already satisfied (use --upgrade to upgrade): babel!=2.0,>=1.3 in /usr/local/src/conda3_runtime.v21/4.1.1/lib/python3.5/site-packages (from sphinx<1.7,>=1.6->qiskit)\nRequirement already satisfied (use --upgrade to upgrade): docutils>=0.11 in /usr/local/src/conda3_runtime.v21/4.1.1/lib/python3.5/site-packages (from sphinx<1.7,>=1.6->qiskit)\nRequirement already satisfied (use --upgrade to upgrade): imagesize in /usr/local/src/conda3_runtime.v21/4.1.1/lib/python3.5/site-packages (from sphinx<1.7,>=1.6->qiskit)\nRequirement already satisfied (use --upgrade to upgrade): Pygments>=2.0 in /usr/local/src/conda3_runtime.v21/4.1.1/lib/python3.5/site-packages (from sphinx<1.7,>=1.6->qiskit)\nRequirement already satisfied (use --upgrade to upgrade): alabaster<0.8,>=0.7 in /usr/local/src/conda3_runtime.v21/4.1.1/lib/python3.5/site-packages (from sphinx<1.7,>=1.6->qiskit)\nRequirement already satisfied (use --upgrade to upgrade): Jinja2>=2.3 in /usr/local/src/conda3_runtime.v21/4.1.1/lib/python3.5/site-packages (from sphinx<1.7,>=1.6->qiskit)\nRequirement already satisfied (use --upgrade to upgrade): setuptools in /usr/local/src/conda3_runtime.v21/4.1.1/lib/python3.5/site-packages/setuptools-23.0.0-py3.5.egg (from sphinx<1.7,>=1.6->qiskit)\nRequirement already satisfied (use --upgrade to upgrade): snowballstemmer>=1.1 in /usr/local/src/conda3_runtime.v21/4.1.1/lib/python3.5/site-packages (from sphinx<1.7,>=1.6->qiskit)\nRequirement already satisfied (use --upgrade to upgrade): decorator>=3.4.0 in /usr/local/src/conda3_runtime.v21/4.1.1/lib/python3.5/site-packages (from networkx<1.12,>=1.11->qiskit)\nRequirement already satisfied (use --upgrade to upgrade): MarkupSafe in /usr/local/src/conda3_runtime.v21/4.1.1/lib/python3.5/site-packages (from Jinja2>=2.3->sphinx<1.7,>=1.6->qiskit)\nBuilding wheels for collected packages: ply, IBMQuantumExperience\n  Running setup.py bdist_wheel for ply ... \u001b[?25ldone\n\u001b[?25h  Stored in directory: /gpfs/fs01/user/s6ed-6d5ffbda8bfaf7-033cc2102f37/.cache/pip/wheels/ad/dd/ad/8ce1991a7b380dfe23d6cc81a4de5c2775bc728b5a0a7721aa\n  Running setup.py bdist_wheel for IBMQuantumExperience ... \u001b[?25ldone\n\u001b[?25h  Stored in directory: /gpfs/fs01/user/s6ed-6d5ffbda8bfaf7-033cc2102f37/.cache/pip/wheels/3e/21/29/d3de702d53d6957375861e2c0d38fc4f94b3ec6115f4f3ae02\nSuccessfully built ply IBMQuantumExperience\nInstalling collected packages: numpy, matplotlib, ply, urllib3, chardet, idna, requests, sphinxcontrib-websupport, sphinx, scipy, IBMQuantumExperience, qiskit\nSuccessfully installed IBMQuantumExperience-1.8.16 chardet-3.0.4 idna-2.6 matplotlib-2.0.2 numpy-1.13.3 ply-3.10 qiskit-0.3.10 requests-2.18.4 scipy-0.19.1 sphinx-1.6.5 sphinxcontrib-websupport-1.0.1 urllib3-1.22\nQconfig.APItoken =  c9010a01250e5e3153125f93c8dad5e9fc7219b3f11804eb2fc5495f175092ca14912ecb309cb6ef85042cbf55ca97a5faf1f66badf85d84b7e2832949cd1a99\n"
                }
            ], 
            "source": "# This cell does some preparatory work to run this Jupyter notebook using \n# IBM Data Science Experience (datascience.ibm.com). All the other cells remain the same as in the original example. \n\n# --------------------------------------------------------------------------------------------------\n# IMPORTANT NOTES: \n# 1) Log on to your QX account and get your API token. You can get it from the Accounts page \n# (the top-right icon on QX website) Copy-Paste the API token below.BE SURE TO ENCLOSE IN QUOTES (\"\")\n# 2) If you are sharing this notebook, MAKE SURE TO REMOVE the API token string before sharing! \n#   Alternatively, you can modify the code below and separately create and save Qconfig.py file with \n#   API token.\n# --------------------------------------------------------------------------------------------------\nQX_API_TOKEN = \"c9010a01250e5e3153125f93c8dad5e9fc7219b3f11804eb2fc5495f175092ca14912ecb309cb6ef85042cbf55ca97a5faf1f66badf85d84b7e2832949cd1a99\"\n\nimport sys\nimport os\n\ntry:\n    assert(sys.version_info.major > 2)\nexcept AssertionError:          \n    print(\"This code requires Python 3.5 or beyond. Your version: {}.{}\".format(sys.version_info.major,sys.version_info.minor))\n    raise\n\n# DO NOT CHANGE THE FOLLOWING assertion\ntry:\n    assert(QX_API_TOKEN != \"PUT_YOUR_API_TOKEN_HERE\")\nexcept AssertionError:\n    print(\"Update the value of QX_API_TOKEN first!\")\n    raise\n    \n# importlib.reload is used to reload the Qconfig module. Fixes any update problems with Qconfig.APItoken \nimport importlib\n\n# We need visibility to Qconfig.py module add current dir your sys.path\nsys.path.append(\"./\")\n\n# Install qiskit package\n!pip install qiskit\n!rm -rf Qconfig.py \n!touch Qconfig.py\n\napitoken_str = 'APItoken=\\\"{}\\\"'.format(QX_API_TOKEN)\nconfig_str = \"config = { \\\"url\\\": 'https://quantumexperience.ng.bluemix.net/api'}\"\n\nwith open('Qconfig.py', 'w') as fil:\n    fil.write(apitoken_str + \"\\n\")\n    fil.write(config_str + \"\\n\")\n    \n# Now import all the modules from qiskit such as QuantumProgram, QuantumCircuit, QuantumRegister etc.\n# Optionally, you can modify the qiskit import line below to do specific module imports. \nfrom qiskit import *\nimport Qconfig\n\ntry:\n    # Reload Qconfig module again to make sure the APItoken is updated\n    importlib.reload(Qconfig)\nexcept NameError as e:\n    print(\"Name error: \", e.args)\nexcept:\n    print(\"unable to reload the module, continuing the execution..\")\n    \nprint(\"Qconfig.APItoken = \", Qconfig.APItoken)"
        }, 
        {
            "metadata": {}, 
            "cell_type": "markdown", 
            "source": "## Basic Concept\n\nThe basic concept of our quantum program is an array of quantum circuits. The program workflow consists of three stages: [Build](#sectionB), [Compile](#sectionC), and [Run](#sectionR). Build allows you to make different quantum circuits that represent the problem you are solving; Compile allows you to rewrite them to run on different backends (simulators/real chips of different [quantum volumes](http://ibm.biz/qiskit-quantum-volume), sizes, fidelity, etc); and Run launches the jobs.\u00a0\u00a0After the jobs have been run, the data is collected. There are methods for putting this data together, depending on the program. This either gives you the answer you wanted, or allows you to make a better program for the next instance.\n\n### Building your program: Create it  <a id='sectionB'></a>\n\nFirst you need to import the QuantumProgram package from QISKit."
        }, 
        {
            "metadata": {}, 
            "cell_type": "markdown", 
            "source": "The basic elements needed for your first program are the QuantumProgram, a Circuit, a Quantum Register, and a Classical Register."
        }, 
        {
            "execution_count": 7, 
            "metadata": {
                "collapsed": true
            }, 
            "cell_type": "code", 
            "outputs": [], 
            "source": "# Creating Programs\n# create your first QuantumProgram object instance.\nqp = QuantumProgram()\n\n# Creating Registers\n# create your first Quantum Register called \"qr\" with 2 qubits \nqr = qp.create_quantum_register('qr', 2)\n# create your first Classical Register  called \"cr\" with 2 bits\ncr = qp.create_classical_register('cr', 2)\n\n# Creating Circuits\n# create your first Quantum Circuit called \"qc\" involving your Quantum Register \"qr\"\n# and your Classical Register \"cr\"\nqc = qp.create_circuit('qc', [qr], [cr])"
        }, 
        {
            "metadata": {}, 
            "cell_type": "markdown", 
            "source": "Another option for creating your QuantumProgram instance is to define a dictionary with all the necessary components of your program."
        }, 
        {
            "execution_count": 8, 
            "metadata": {
                "collapsed": true
            }, 
            "cell_type": "code", 
            "outputs": [], 
            "source": "Q_SPECS = {\n    'circuits': [{\n        'name': 'Circuit',\n        'quantum_registers': [{\n            'name': 'qr',\n            'size': 4\n        }],\n        'classical_registers': [{\n            'name': 'cr',\n            'size': 4\n        }]}],\n}"
        }, 
        {
            "metadata": {}, 
            "cell_type": "markdown", 
            "source": "The required element for a Program is a \"circuits\" array. Within \"circuits\", the required field is \"name\"; it can have several Quantum Registers and Classical Registers. Every register must have a name and the number of each element (qubits or bits).\n\nAfter that, you can use this dictionary definition as the specs of one QuantumProgram object to initialize it."
        }, 
        {
            "execution_count": 9, 
            "metadata": {}, 
            "cell_type": "code", 
            "outputs": [], 
            "source": "qp = QuantumProgram(specs=Q_SPECS)"
        }, 
        {
            "metadata": {}, 
            "cell_type": "markdown", 
            "source": "You can also get every component from your new qp to use."
        }, 
        {
            "execution_count": 10, 
            "metadata": {
                "collapsed": true
            }, 
            "cell_type": "code", 
            "outputs": [], 
            "source": "# Get the components.\n\n# get the circuit by Name\ncircuit = qp.get_circuit('Circuit')\n\n# get the Quantum Register by Name\nquantum_r = qp.get_quantum_register('qr')\n\n# get the Classical Register by Name\nclassical_r = qp.get_classical_register('cr')"
        }, 
        {
            "metadata": {}, 
            "cell_type": "markdown", 
            "source": "### Building your program: Add Gates to your Circuit\nAfter you create the circuit with its registers, you can add gates to manipulate the registers. Below is a list of the gates you can use in the QX.\n\nYou can find extensive information about these gates and how use them in our [Quantum Experience User Guide](https://quantumexperience.ng.bluemix.net/qstage/#/tutorial?sectionId=71972f437b08e12d1f465a8857f4514c&pageIndex=2). "
        }, 
        {
            "execution_count": 11, 
            "metadata": {}, 
            "cell_type": "code", 
            "outputs": [
                {
                    "execution_count": 11, 
                    "metadata": {}, 
                    "data": {
                        "text/plain": "<qiskit._measure.Measure at 0x7f14f864c630>"
                    }, 
                    "output_type": "execute_result"
                }
            ], 
            "source": "# Pauli X gate to qubit 1 in the Quantum Register \"qr\" \ncircuit.x(quantum_r[1])\n\n# Pauli Y gate to qubit 2 in the Quantum Register \"qr\" \ncircuit.y(quantum_r[2])\n\n# Pauli Z gate to qubit 3 in the Quantum Register \"qr\" \ncircuit.z(quantum_r[3])\n\n# CNOT (Controlled-NOT) gate from qubit 0 to qubit 2\ncircuit.cx(quantum_r[0], quantum_r[2])\n\n# add a barrier to your circuit\ncircuit.barrier()\n\n# H (Hadamard) gate to qubit 0 in the Quantum Register \"qr\" \ncircuit.h(quantum_r[0])\n\n# S Phase gate to qubit 0\ncircuit.s(quantum_r[0])\n\n# T Phase gate to qubit 1\ncircuit.t(quantum_r[1])\n\n# identity gate to qubit 1\ncircuit.iden(quantum_r[1])\n\n# first physical gate: u1(lambda) to qubit 0\ncircuit.u1(0.3, quantum_r[0])\n\n# second physical gate: u2(phi,lambda) to qubit 1\ncircuit.u2(0.3, 0.2, quantum_r[1])\n\n# second physical gate: u3(theta,phi,lambda) to qubit 2\ncircuit.u3(0.3, 0.2, 0.1, quantum_r[2])\n\n# rotation around the x-axis to qubit 0\ncircuit.rx(0.2, quantum_r[0])\n\n# rotation around the y-axis to qubit 1\ncircuit.ry(0.2, quantum_r[1])\n\n# rotation around the z-axis to qubit 2\ncircuit.rz(0.2, quantum_r[2])\n\n# Classical if, from qubit2 gate Z to classical bit 1\n# circuit.z(quantum_r[2]).c_if(classical_r, 0)\n\n# measure gate from qubit 0 to classical bit 0\ncircuit.measure(quantum_r[0], classical_r[0])\ncircuit.measure(quantum_r[1], classical_r[1])\ncircuit.measure(quantum_r[2], classical_r[2])"
        }, 
        {
            "metadata": {}, 
            "cell_type": "markdown", 
            "source": "If you want to see what circuits are in your program you can use the get_circuit_names()"
        }, 
        {
            "execution_count": 12, 
            "metadata": {}, 
            "cell_type": "code", 
            "outputs": [
                {
                    "execution_count": 12, 
                    "metadata": {}, 
                    "data": {
                        "text/plain": "dict_keys(['Circuit'])"
                    }, 
                    "output_type": "execute_result"
                }
            ], 
            "source": "qp.get_circuit_names()"
        }, 
        {
            "metadata": {}, 
            "cell_type": "markdown", 
            "source": "### Extract QASM\n\nYou can obtain a QASM representation of your code."
        }, 
        {
            "execution_count": 13, 
            "metadata": {}, 
            "cell_type": "code", 
            "outputs": [
                {
                    "output_type": "stream", 
                    "name": "stdout", 
                    "text": "OPENQASM 2.0;\ninclude \"qelib1.inc\";\nqreg qr[4];\ncreg cr[4];\nx qr[1];\ny qr[2];\nz qr[3];\ncx qr[0],qr[2];\nbarrier qr[0],qr[1],qr[2],qr[3];\nh qr[0];\ns qr[0];\nt qr[1];\nid qr[1];\nu1(0.300000000000000) qr[0];\nu2(0.300000000000000,0.200000000000000) qr[1];\nu3(0.300000000000000,0.200000000000000,0.100000000000000) qr[2];\nrx(0.200000000000000) qr[0];\nry(0.200000000000000) qr[1];\nrz(0.200000000000000) qr[2];\nmeasure qr[0] -> cr[0];\nmeasure qr[1] -> cr[1];\nmeasure qr[2] -> cr[2];\n\n"
                }
            ], 
            "source": "# QASM from a program\n\nQASM_source = qp.get_qasm('Circuit')\n\nprint(QASM_source)"
        }, 
        {
            "metadata": {}, 
            "cell_type": "markdown", 
            "source": "### Compile and Run or Execute <a id='sectionC'></a>"
        }, 
        {
            "metadata": {}, 
            "cell_type": "markdown", 
            "source": "First we need to choose the backend. Lets start with the local simulator "
        }, 
        {
            "execution_count": 14, 
            "metadata": {
                "collapsed": true
            }, 
            "cell_type": "code", 
            "outputs": [], 
            "source": "backend = 'local_qasm_simulator' \ncircuits = ['Circuit']  # Group of circuits to execute"
        }, 
        {
            "metadata": {}, 
            "cell_type": "markdown", 
            "source": "Next we need to compile the circuits into a quantum object which we call qobj"
        }, 
        {
            "execution_count": 15, 
            "metadata": {
                "collapsed": true
            }, 
            "cell_type": "code", 
            "outputs": [], 
            "source": "qobj=qp.compile(circuits, backend) # Compile your program"
        }, 
        {
            "metadata": {}, 
            "cell_type": "markdown", 
            "source": "Then you can run your program. Using wait and timeout we can check the execution result every 2 seconds and timeout if the job is not run in 240 seconds. "
        }, 
        {
            "execution_count": 16, 
            "metadata": {}, 
            "cell_type": "code", 
            "outputs": [
                {
                    "output_type": "stream", 
                    "name": "stdout", 
                    "text": "COMPLETED\n"
                }
            ], 
            "source": "result = qp.run(qobj, wait=2, timeout=240)\nprint(result)"
        }, 
        {
            "metadata": {}, 
            "cell_type": "markdown", 
            "source": "When you run a program, the result will be a new object that contains the data, status, and a copy of the qobj. The status of the results can be obtian using print and will one of the follow:\n\n```\nJOB_STATUS = {\n    inProgress: 'RUNNING',\n    errorOnCreate: 'ERROR_CREATING_JOB',\n    errorExecuting: 'ERROR_RUNNING_JOB',\n    completed: 'COMPLETED'\n  };\n``` "
        }, 
        {
            "metadata": {}, 
            "cell_type": "markdown", 
            "source": "### Result\nYou can access the result via the function \n\n```get_counts('name')```. "
        }, 
        {
            "execution_count": 17, 
            "metadata": {}, 
            "cell_type": "code", 
            "outputs": [
                {
                    "execution_count": 17, 
                    "metadata": {}, 
                    "data": {
                        "text/plain": "{'0000': 7,\n '0001': 9,\n '0010': 9,\n '0011': 3,\n '0100': 366,\n '0101': 231,\n '0110': 244,\n '0111': 155}"
                    }, 
                    "output_type": "execute_result"
                }
            ], 
            "source": "result.get_counts('Circuit')"
        }, 
        {
            "metadata": {}, 
            "cell_type": "markdown", 
            "source": "In addition to getting the number of times each output was seen, you can get the circuit which was run in QASM format.\nFor this simulation, the compiled circuit is not much different from the input circuit. Each single-qubit gate has been expressed as a u1, u2, or u3 gate."
        }, 
        {
            "execution_count": 18, 
            "metadata": {}, 
            "cell_type": "code", 
            "outputs": [
                {
                    "output_type": "stream", 
                    "name": "stdout", 
                    "text": "OPENQASM 2.0;\ninclude \"qelib1.inc\";\nqreg qr[4];\ncreg cr[4];\nu1(3.141592653589793) qr[3];\nu3(3.141592653589793,1.5707963267948966,1.5707963267948966) qr[2];\nu3(3.141592653589793,0.0,3.141592653589793) qr[1];\ncx qr[0],qr[2];\nbarrier qr[0],qr[1],qr[2],qr[3];\nu1(0.7853981633974483) qr[1];\nid qr[1];\nu2(0.3,0.2) qr[1];\nu3(0.2,0.0,0.0) qr[1];\nmeasure qr[1] -> cr[1];\nu2(0.0,3.141592653589793) qr[0];\nu1(1.5707963267948966) qr[0];\nu1(0.3) qr[0];\nu3(0.2,-1.5707963267948966,1.5707963267948966) qr[0];\nmeasure qr[0] -> cr[0];\nu3(0.3,0.2,0.1) qr[2];\nu1(0.2) qr[2];\nmeasure qr[2] -> cr[2];\n\n"
                }
            ], 
            "source": "ran_qasm = result.get_ran_qasm('Circuit')\n\nprint(ran_qasm)"
        }, 
        {
            "metadata": {}, 
            "cell_type": "markdown", 
            "source": "You can use \n\n```qp.execute(circuits)```\n\nto combine the compile and run in a single step."
        }, 
        {
            "execution_count": 19, 
            "metadata": {}, 
            "cell_type": "code", 
            "outputs": [
                {
                    "output_type": "stream", 
                    "name": "stdout", 
                    "text": "COMPLETED\n"
                }
            ], 
            "source": "out = qp.execute(circuits, backend, wait=2, timeout=240)\nprint(out)"
        }, 
        {
            "metadata": {}, 
            "cell_type": "markdown", 
            "source": "#### Compile Parameters\n```qp.compile(circuits, backend='ibmqx2', shots=1024, max_credits=3, basis_gates=None, coupling_map=None, seed=None)```\n\n     - circuits: Array of circuits to compile\n     - backend: Backend \n        ['ibmqx_qasm_simulator',    # qasm simulator \n         'ibmqx2',                  # online real chip with 5 qubits\n         'ibmqx3',                  # online real chip with 16 qubits\n         'local_unitary_simulator', # local unitary simulator \n         'local_qasm_simulator']    # local simulator \n     - config: configure options for the compiler \n     - silent: True/False sets the run to be silent of not\n     - shots: Number of shots, only for real chips and qasm simulators\n     - max_credits: Maximum number of credits to spend in the executions. If the executions cost more than your available credits, the job is aborted\n     - basis_gates: the base gates by default are: u1, u2, u3, cx, id\n     - coupling_map: Object that represents the physical/topological layout of a chip.\n     - seed: For the qasm simulator if you want to set the initial seed. \n#### Run Parameters\n```qp.run(qobj, wait=5, timeout=60)```\n     - the qobj to be run.\n     - wait: Time to wait before checking if the execution is COMPLETED.\n     - timeout: Timeout of the execution.\n#### Execute Parameters \nExecute has the combined parameters of compile and run.\n\n```qp.execute(circuits, backend, shots=1024, max_credits=3, basis_gates=None, wait=5, timeout=60, basis_gates=None, coupling_map=None)```"
        }, 
        {
            "metadata": {}, 
            "cell_type": "markdown", 
            "source": "### Execute on a Real Device<a id='sectionR'></a>"
        }, 
        {
            "execution_count": 20, 
            "metadata": {}, 
            "cell_type": "code", 
            "outputs": [
                {
                    "output_type": "stream", 
                    "name": "stdout", 
                    "text": "running on backend: ibmqx2\nstatus = RUNNING (10 seconds)\nstatus = RUNNING (20 seconds)\nstatus = RUNNING (30 seconds)\nstatus = RUNNING (40 seconds)\nstatus = RUNNING (50 seconds)\nstatus = RUNNING (60 seconds)\nstatus = RUNNING (70 seconds)\nstatus = RUNNING (80 seconds)\nstatus = RUNNING (90 seconds)\nstatus = RUNNING (100 seconds)\nstatus = RUNNING (110 seconds)\nstatus = RUNNING (120 seconds)\nstatus = RUNNING (130 seconds)\nstatus = RUNNING (140 seconds)\nstatus = RUNNING (150 seconds)\nstatus = RUNNING (160 seconds)\nstatus = RUNNING (170 seconds)\nstatus = RUNNING (180 seconds)\nstatus = RUNNING (190 seconds)\nstatus = RUNNING (200 seconds)\nstatus = RUNNING (210 seconds)\nstatus = RUNNING (220 seconds)\nstatus = RUNNING (230 seconds)\nstatus = RUNNING (240 seconds)\n"
                }
            ], 
            "source": "backend = 'ibmqx2'   # Backend where you execute your program; in this case, on the Real Quantum Chip online \ncircuits = ['Circuit']   # Group of circuits to execute\nshots = 1024           # Number of shots to run the program (experiment); maximum is 8192 shots.\nmax_credits = 3          # Maximum number of credits to spend on executions. \nqp.set_api(Qconfig.APItoken, Qconfig.config['url']) # set the APIToken and API url\n\nresult_real = qp.execute(circuits, backend, shots=shots, max_credits=3, wait=10, timeout=240, silent=False)"
        }, 
        {
            "metadata": {}, 
            "cell_type": "markdown", 
            "source": "It can also be run in silent mode, which you can enable by setting to ```silent=True```"
        }, 
        {
            "execution_count": 21, 
            "metadata": {
                "collapsed": true
            }, 
            "cell_type": "code", 
            "outputs": [], 
            "source": "result_real2 = qp.execute(circuits, backend, shots=shots, max_credits=3, wait=10, timeout=240, silent=True)"
        }, 
        {
            "metadata": {}, 
            "cell_type": "markdown", 
            "source": "Like before the counts for both executions can be obtained using ```get_counts('name')``` "
        }, 
        {
            "execution_count": 22, 
            "metadata": {}, 
            "cell_type": "code", 
            "outputs": [
                {
                    "output_type": "stream", 
                    "name": "stderr", 
                    "text": "ERROR: File `'../version.ipynb.py'` not found.\n"
                }
            ], 
            "source": "%run \"../version.ipynb\""
        }, 
        {
            "execution_count": 23, 
            "metadata": {}, 
            "cell_type": "code", 
            "outputs": [
                {
                    "output_type": "error", 
                    "ename": "TypeError", 
                    "evalue": "string indices must be integers", 
                    "traceback": [
                        "\u001b[1;31m\u001b[0m", 
                        "\u001b[1;31mTypeError\u001b[0mTraceback (most recent call last)", 
                        "\u001b[1;32m<ipython-input-23-2dd648da5256>\u001b[0m in \u001b[0;36m<module>\u001b[1;34m()\u001b[0m\n\u001b[1;32m----> 1\u001b[1;33m \u001b[0mresult_real\u001b[0m\u001b[1;33m.\u001b[0m\u001b[0mget_counts\u001b[0m\u001b[1;33m(\u001b[0m\u001b[1;34m'Circuit'\u001b[0m\u001b[1;33m)\u001b[0m\u001b[1;33m\u001b[0m\u001b[0m\n\u001b[0m", 
                        "\u001b[1;32m/gpfs/fs01/user/s6ed-6d5ffbda8bfaf7-033cc2102f37/.local/lib/python3.5/site-packages/qiskit/_quantumprogram.py\u001b[0m in \u001b[0;36mget_counts\u001b[1;34m(self, name)\u001b[0m\n\u001b[0;32m   1298\u001b[0m         \"\"\"\n\u001b[0;32m   1299\u001b[0m         \u001b[1;32mtry\u001b[0m\u001b[1;33m:\u001b[0m\u001b[1;33m\u001b[0m\u001b[0m\n\u001b[1;32m-> 1300\u001b[1;33m             \u001b[1;32mreturn\u001b[0m \u001b[0mself\u001b[0m\u001b[1;33m.\u001b[0m\u001b[0mget_data\u001b[0m\u001b[1;33m(\u001b[0m\u001b[0mname\u001b[0m\u001b[1;33m)\u001b[0m\u001b[1;33m[\u001b[0m\u001b[1;34m'counts'\u001b[0m\u001b[1;33m]\u001b[0m\u001b[1;33m\u001b[0m\u001b[0m\n\u001b[0m\u001b[0;32m   1301\u001b[0m         \u001b[1;32mexcept\u001b[0m \u001b[0mKeyError\u001b[0m\u001b[1;33m:\u001b[0m\u001b[1;33m\u001b[0m\u001b[0m\n\u001b[0;32m   1302\u001b[0m             \u001b[1;32mraise\u001b[0m \u001b[0mQISKitError\u001b[0m\u001b[1;33m(\u001b[0m\u001b[1;34m'No counts for circuit \"{0}\"'\u001b[0m\u001b[1;33m.\u001b[0m\u001b[0mformat\u001b[0m\u001b[1;33m(\u001b[0m\u001b[0mname\u001b[0m\u001b[1;33m)\u001b[0m\u001b[1;33m)\u001b[0m\u001b[1;33m\u001b[0m\u001b[0m\n", 
                        "\u001b[1;32m/gpfs/fs01/user/s6ed-6d5ffbda8bfaf7-033cc2102f37/.local/lib/python3.5/site-packages/qiskit/_quantumprogram.py\u001b[0m in \u001b[0;36mget_data\u001b[1;34m(self, name)\u001b[0m\n\u001b[0;32m   1280\u001b[0m             \u001b[1;32mfor\u001b[0m \u001b[0mindex\u001b[0m \u001b[1;32min\u001b[0m \u001b[0mrange\u001b[0m\u001b[1;33m(\u001b[0m\u001b[0mlen\u001b[0m\u001b[1;33m(\u001b[0m\u001b[0mqobj\u001b[0m\u001b[1;33m[\u001b[0m\u001b[1;34m\"circuits\"\u001b[0m\u001b[1;33m]\u001b[0m\u001b[1;33m)\u001b[0m\u001b[1;33m)\u001b[0m\u001b[1;33m:\u001b[0m\u001b[1;33m\u001b[0m\u001b[0m\n\u001b[0;32m   1281\u001b[0m                 \u001b[1;32mif\u001b[0m \u001b[0mqobj\u001b[0m\u001b[1;33m[\u001b[0m\u001b[1;34m\"circuits\"\u001b[0m\u001b[1;33m]\u001b[0m\u001b[1;33m[\u001b[0m\u001b[0mindex\u001b[0m\u001b[1;33m]\u001b[0m\u001b[1;33m[\u001b[0m\u001b[1;34m'name'\u001b[0m\u001b[1;33m]\u001b[0m \u001b[1;33m==\u001b[0m \u001b[0mname\u001b[0m\u001b[1;33m:\u001b[0m\u001b[1;33m\u001b[0m\u001b[0m\n\u001b[1;32m-> 1282\u001b[1;33m                     \u001b[1;32mreturn\u001b[0m \u001b[0mself\u001b[0m\u001b[1;33m.\u001b[0m\u001b[0m__result\u001b[0m\u001b[1;33m[\u001b[0m\u001b[1;34m'result'\u001b[0m\u001b[1;33m]\u001b[0m\u001b[1;33m[\u001b[0m\u001b[0mindex\u001b[0m\u001b[1;33m]\u001b[0m\u001b[1;33m[\u001b[0m\u001b[1;34m\"data\"\u001b[0m\u001b[1;33m]\u001b[0m\u001b[1;33m\u001b[0m\u001b[0m\n\u001b[0m\u001b[0;32m   1283\u001b[0m         \u001b[1;32mexcept\u001b[0m \u001b[0mKeyError\u001b[0m\u001b[1;33m:\u001b[0m\u001b[1;33m\u001b[0m\u001b[0m\n\u001b[0;32m   1284\u001b[0m             \u001b[1;32mraise\u001b[0m \u001b[0mQISKitError\u001b[0m\u001b[1;33m(\u001b[0m\u001b[1;34m'No data for circuit \"{0}\"'\u001b[0m\u001b[1;33m.\u001b[0m\u001b[0mformat\u001b[0m\u001b[1;33m(\u001b[0m\u001b[0mname\u001b[0m\u001b[1;33m)\u001b[0m\u001b[1;33m)\u001b[0m\u001b[1;33m\u001b[0m\u001b[0m\n", 
                        "\u001b[1;31mTypeError\u001b[0m: string indices must be integers"
                    ]
                }
            ], 
            "source": "result_real.get_counts('Circuit')"
        }, 
        {
            "execution_count": 24, 
            "metadata": {}, 
            "cell_type": "code", 
            "outputs": [
                {
                    "output_type": "error", 
                    "ename": "TypeError", 
                    "evalue": "string indices must be integers", 
                    "traceback": [
                        "\u001b[1;31m\u001b[0m", 
                        "\u001b[1;31mTypeError\u001b[0mTraceback (most recent call last)", 
                        "\u001b[1;32m<ipython-input-24-b8a8c6c16c06>\u001b[0m in \u001b[0;36m<module>\u001b[1;34m()\u001b[0m\n\u001b[1;32m----> 1\u001b[1;33m \u001b[0mresult_real2\u001b[0m\u001b[1;33m.\u001b[0m\u001b[0mget_counts\u001b[0m\u001b[1;33m(\u001b[0m\u001b[1;34m'Circuit'\u001b[0m\u001b[1;33m)\u001b[0m\u001b[1;33m\u001b[0m\u001b[0m\n\u001b[0m", 
                        "\u001b[1;32m/gpfs/fs01/user/s6ed-6d5ffbda8bfaf7-033cc2102f37/.local/lib/python3.5/site-packages/qiskit/_quantumprogram.py\u001b[0m in \u001b[0;36mget_counts\u001b[1;34m(self, name)\u001b[0m\n\u001b[0;32m   1298\u001b[0m         \"\"\"\n\u001b[0;32m   1299\u001b[0m         \u001b[1;32mtry\u001b[0m\u001b[1;33m:\u001b[0m\u001b[1;33m\u001b[0m\u001b[0m\n\u001b[1;32m-> 1300\u001b[1;33m             \u001b[1;32mreturn\u001b[0m \u001b[0mself\u001b[0m\u001b[1;33m.\u001b[0m\u001b[0mget_data\u001b[0m\u001b[1;33m(\u001b[0m\u001b[0mname\u001b[0m\u001b[1;33m)\u001b[0m\u001b[1;33m[\u001b[0m\u001b[1;34m'counts'\u001b[0m\u001b[1;33m]\u001b[0m\u001b[1;33m\u001b[0m\u001b[0m\n\u001b[0m\u001b[0;32m   1301\u001b[0m         \u001b[1;32mexcept\u001b[0m \u001b[0mKeyError\u001b[0m\u001b[1;33m:\u001b[0m\u001b[1;33m\u001b[0m\u001b[0m\n\u001b[0;32m   1302\u001b[0m             \u001b[1;32mraise\u001b[0m \u001b[0mQISKitError\u001b[0m\u001b[1;33m(\u001b[0m\u001b[1;34m'No counts for circuit \"{0}\"'\u001b[0m\u001b[1;33m.\u001b[0m\u001b[0mformat\u001b[0m\u001b[1;33m(\u001b[0m\u001b[0mname\u001b[0m\u001b[1;33m)\u001b[0m\u001b[1;33m)\u001b[0m\u001b[1;33m\u001b[0m\u001b[0m\n", 
                        "\u001b[1;32m/gpfs/fs01/user/s6ed-6d5ffbda8bfaf7-033cc2102f37/.local/lib/python3.5/site-packages/qiskit/_quantumprogram.py\u001b[0m in \u001b[0;36mget_data\u001b[1;34m(self, name)\u001b[0m\n\u001b[0;32m   1280\u001b[0m             \u001b[1;32mfor\u001b[0m \u001b[0mindex\u001b[0m \u001b[1;32min\u001b[0m \u001b[0mrange\u001b[0m\u001b[1;33m(\u001b[0m\u001b[0mlen\u001b[0m\u001b[1;33m(\u001b[0m\u001b[0mqobj\u001b[0m\u001b[1;33m[\u001b[0m\u001b[1;34m\"circuits\"\u001b[0m\u001b[1;33m]\u001b[0m\u001b[1;33m)\u001b[0m\u001b[1;33m)\u001b[0m\u001b[1;33m:\u001b[0m\u001b[1;33m\u001b[0m\u001b[0m\n\u001b[0;32m   1281\u001b[0m                 \u001b[1;32mif\u001b[0m \u001b[0mqobj\u001b[0m\u001b[1;33m[\u001b[0m\u001b[1;34m\"circuits\"\u001b[0m\u001b[1;33m]\u001b[0m\u001b[1;33m[\u001b[0m\u001b[0mindex\u001b[0m\u001b[1;33m]\u001b[0m\u001b[1;33m[\u001b[0m\u001b[1;34m'name'\u001b[0m\u001b[1;33m]\u001b[0m \u001b[1;33m==\u001b[0m \u001b[0mname\u001b[0m\u001b[1;33m:\u001b[0m\u001b[1;33m\u001b[0m\u001b[0m\n\u001b[1;32m-> 1282\u001b[1;33m                     \u001b[1;32mreturn\u001b[0m \u001b[0mself\u001b[0m\u001b[1;33m.\u001b[0m\u001b[0m__result\u001b[0m\u001b[1;33m[\u001b[0m\u001b[1;34m'result'\u001b[0m\u001b[1;33m]\u001b[0m\u001b[1;33m[\u001b[0m\u001b[0mindex\u001b[0m\u001b[1;33m]\u001b[0m\u001b[1;33m[\u001b[0m\u001b[1;34m\"data\"\u001b[0m\u001b[1;33m]\u001b[0m\u001b[1;33m\u001b[0m\u001b[0m\n\u001b[0m\u001b[0;32m   1283\u001b[0m         \u001b[1;32mexcept\u001b[0m \u001b[0mKeyError\u001b[0m\u001b[1;33m:\u001b[0m\u001b[1;33m\u001b[0m\u001b[0m\n\u001b[0;32m   1284\u001b[0m             \u001b[1;32mraise\u001b[0m \u001b[0mQISKitError\u001b[0m\u001b[1;33m(\u001b[0m\u001b[1;34m'No data for circuit \"{0}\"'\u001b[0m\u001b[1;33m.\u001b[0m\u001b[0mformat\u001b[0m\u001b[1;33m(\u001b[0m\u001b[0mname\u001b[0m\u001b[1;33m)\u001b[0m\u001b[1;33m)\u001b[0m\u001b[1;33m\u001b[0m\u001b[0m\n", 
                        "\u001b[1;31mTypeError\u001b[0m: string indices must be integers"
                    ]
                }
            ], 
            "source": "result_real2.get_counts('Circuit')"
        }, 
        {
            "execution_count": null, 
            "metadata": {
                "collapsed": true
            }, 
            "cell_type": "code", 
            "outputs": [], 
            "source": ""
        }
    ], 
    "nbformat_minor": 1
}